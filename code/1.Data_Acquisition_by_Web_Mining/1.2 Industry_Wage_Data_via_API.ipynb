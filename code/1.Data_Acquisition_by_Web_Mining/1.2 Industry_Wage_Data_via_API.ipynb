{
 "cells": [
  {
   "cell_type": "markdown",
   "source": [
    "To retrieve and store wage data from the Bureau of Labor Statistics (BLS) via their public API. Here are the key components and steps involved in this script:\n",
    "\n",
    "1. **API Request Setup**: I use the `requests` library to send a POST request to the BLS API. The request includes headers specifying that I are sending JSON content, and the body of the request contains the series IDs for the data I am interested in, as well as the range of years (2011 to 2014).\n",
    "\n",
    "2. **Data Parsing and Processing**: The response from the API is parsed from JSON format to extract the relevant wage data. I loop through each series of data returned by the API, which contains multiple data points representing different periods (months) within the specified years.\n",
    "\n",
    "3. **Table Formatting with PrettyTable**: For a clear and structured presentation of the data, I employ the `prettytable` library to create tables for each data series. These tables list the series ID, year, period (month), the value of the data point (wage figures), and any applicable footnotes which might provide additional context or information about the data.\n",
    "\n",
    "4. **Data Storage**: Each series' data table is then saved to a text file, named after the series ID, ensuring that the data is easy to access and review. This format also facilitates further analysis or integration into larger datasets."
   ],
   "metadata": {
    "collapsed": false
   },
   "id": "2e8442672d5120c7"
  },
  {
   "cell_type": "code",
   "execution_count": null,
   "outputs": [],
   "source": [
    "import requests\n",
    "import json\n",
    "import prettytable\n",
    "headers = {'Content-type': 'application/json'}\n",
    "data = json.dumps({\"seriesid\": ['CUUR0000SA0','SUUR0000SA0'],\"startyear\":\"2011\", \"endyear\":\"2014\"})\n",
    "p = requests.post('https://api.bls.gov/publicAPI/v1/timeseries/data/', data=data, headers=headers)\n",
    "json_data = json.loads(p.text)\n",
    "for series in json_data['Results']['series']:\n",
    "    x=prettytable.PrettyTable([\"series id\",\"year\",\"period\",\"value\",\"footnotes\"])\n",
    "    seriesId = series['seriesID']\n",
    "    for item in series['data']:\n",
    "        year = item['year']\n",
    "        period = item['period']\n",
    "        value = item['value']\n",
    "        footnotes=\"\"\n",
    "        for footnote in item['footnotes']:\n",
    "            if footnote:\n",
    "                footnotes = footnotes + footnote['text'] + ','\n",
    "    \n",
    "        if 'M01' <= period <= 'M12':\n",
    "            x.add_row([seriesId,year,period,value,footnotes[0:-1]])\n",
    "    output = open(seriesId + '.txt','w')\n",
    "    output.write (x.get_string())\n",
    "    output.close()"
   ],
   "metadata": {
    "collapsed": true
   },
   "id": "initial_id"
  }
 ],
 "metadata": {
  "kernelspec": {
   "display_name": "Python 3",
   "language": "python",
   "name": "python3"
  },
  "language_info": {
   "codemirror_mode": {
    "name": "ipython",
    "version": 2
   },
   "file_extension": ".py",
   "mimetype": "text/x-python",
   "name": "python",
   "nbconvert_exporter": "python",
   "pygments_lexer": "ipython2",
   "version": "2.7.6"
  }
 },
 "nbformat": 4,
 "nbformat_minor": 5
}
